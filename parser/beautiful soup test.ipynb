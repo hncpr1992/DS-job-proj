{
 "cells": [
  {
   "cell_type": "markdown",
   "metadata": {},
   "source": [
    "# JobParser"
   ]
  },
  {
   "cell_type": "markdown",
   "metadata": {},
   "source": [
    "The general strategy is:\n",
    "    1. Parse the top 15 pages job links of data science on Indeed and collect all contents in each job.\n",
    "    2. Process the job contents and either dig out information or create a dynamic job board for my own use"
   ]
  },
  {
   "cell_type": "code",
   "execution_count": 90,
   "metadata": {
    "collapsed": false
   },
   "outputs": [],
   "source": [
    "from bs4 import BeautifulSoup # For HTML parsing\n",
    "import urllib.request as ub\n",
    "import re # Regular expressions\n",
    "from time import sleep # To prevent overwhelming the server between connections\n",
    "from collections import Counter # Keep track of our term counts\n",
    "from nltk.corpus import stopwords # Filter out stopwords, such as 'the', 'or', 'and'\n",
    "import pandas as pd # For converting results to a dataframe and bar chart plots\n",
    "import time \n",
    "from tqdm import tqdm\n",
    "%matplotlib inline"
   ]
  },
  {
   "cell_type": "markdown",
   "metadata": {},
   "source": [
    "Website parsing function"
   ]
  },
  {
   "cell_type": "code",
   "execution_count": 10,
   "metadata": {
    "collapsed": true
   },
   "outputs": [],
   "source": [
    "def text_extractor(website):\n",
    "    '''\n",
    "    extract words from html file\n",
    "    '''\n",
    "    try:\n",
    "        site = ub.urlopen(website).read() # Connect to the job posting\n",
    "    except: \n",
    "        return   # Need this in case the website isn't there anymore or some other weird connection problem \n",
    "    \n",
    "    soupObj = BeautifulSoup(site,\"lxml\") # Get the html from the site\n",
    "    \n",
    "    for script in soupObj([\"script\", \"style\"]):\n",
    "        script.extract() # Remove these two elements from the BS4 object\n",
    "    \n",
    "    text = soupObj.get_text() # Get the text from this\n",
    "    \n",
    "        \n",
    "    \n",
    "    lines = (line.strip() for line in text.splitlines()) # break into lines\n",
    "        \n",
    "        \n",
    "    chunks = (phrase.strip() for line in lines for phrase in line.split(\"  \")) # break multi-headlines into a line each\n",
    "\n",
    "        \n",
    "    text = re.sub(\"[^a-zA-Z.+3]\",\" \", text)  # Now get rid of any terms that aren't words (include 3 for d3.js)\n",
    "                                                # Also include + for C++\n",
    "        \n",
    "    text = text.lower().split()  # Go to lower case and split them apart\n",
    "            \n",
    "    text = list(set(text)) # Last, just get the set of these. Ignore counts (we are just looking at whether a term existed\n",
    "                            # or not on the website)\n",
    "    return text"
   ]
  },
  {
   "cell_type": "code",
   "execution_count": 11,
   "metadata": {
    "collapsed": false
   },
   "outputs": [],
   "source": [
    "sample = text_extractor('http://www.indeed.com/viewjob?jk=5505e59f8e5a32a4&q=%22data+scientist%22&tk=19ftfgsmj19ti0l3&from=web&advn=1855944161169178&sjdu=QwrRXKrqZ3CNX5W-O9jEvWC1RT2wMYkGnZrqGdrncbKqQ7uwTLXzT1_ME9WQ4M-7om7mrHAlvyJT8cA_14IV5w&pub=pub-indeed')\n",
    "# sample[:20] # Just show the first 20 words"
   ]
  },
  {
   "cell_type": "markdown",
   "metadata": {},
   "source": [
    "Grab all the job link on indeed"
   ]
  },
  {
   "cell_type": "code",
   "execution_count": 13,
   "metadata": {
    "collapsed": true
   },
   "outputs": [],
   "source": [
    "webStart = \"http://www.indeed.com/jobs?q=data+science&jt=fulltime&fromage=1&start=0&pp=\""
   ]
  },
  {
   "cell_type": "code",
   "execution_count": 41,
   "metadata": {
    "collapsed": false
   },
   "outputs": [],
   "source": [
    "def pageGenerator(n):\n",
    "    \n",
    "    \"\"\"\n",
    "    return the link of pages that will be used\n",
    "    \"\"\"\n",
    "    links = []\n",
    "    for i in range(n):\n",
    "        front = \"http://www.indeed.com/jobs?q=data+science&jt=fulltime&fromage=1&start=\"\n",
    "        end = \"&pp=\"\n",
    "        links.append(\"\".join([front,str(i*10),end]))\n",
    "    return links\n",
    "\n",
    "def completeLink(link):\n",
    "    return \"http://www.indeed.com\" + link"
   ]
  },
  {
   "cell_type": "markdown",
   "metadata": {},
   "source": [
    "Get all links to job pages on one indeed webpage"
   ]
  },
  {
   "cell_type": "code",
   "execution_count": 74,
   "metadata": {
    "collapsed": false
   },
   "outputs": [],
   "source": [
    "def jobLinkCollector(pageAddr):\n",
    "    \n",
    "    # load page\n",
    "    site = ub.urlopen(pageAddr).read()\n",
    "    soupObj = BeautifulSoup(site,\"lxml\")\n",
    "    \n",
    "    # find the division for the fixed 10 jobs on one page\n",
    "    jobs = soupObj.find_all(\"div\",attrs = {\"data-tn-component\":\"organicJob\"})\n",
    "    jobLink = []\n",
    "    \n",
    "    # iteration for get the link of each job site\n",
    "    for i in range(len(jobs)):\n",
    "        link = jobs[i].find(\"a\",attrs={\"data-tn-element\":\"jobTitle\"}).get(\"href\")\n",
    "        jobLink.append(completeLink(link))\n",
    "    \n",
    "    return jobLink"
   ]
  },
  {
   "cell_type": "markdown",
   "metadata": {
    "collapsed": true
   },
   "source": [
    "Collect the job information"
   ]
  },
  {
   "cell_type": "code",
   "execution_count": 79,
   "metadata": {
    "collapsed": true
   },
   "outputs": [],
   "source": [
    "def allJobLinks(n):\n",
    "    \n",
    "    # generate the pages for indeed jobs\n",
    "    jobPages = pageGenerator(n)\n",
    "    \n",
    "    jobLinks = []\n",
    "    \n",
    "    for page in range(len(jobPages)):\n",
    "        jobLinks.extend(jobLinkCollector(jobPages[page]))\n",
    "    \n",
    "    return jobLinks    "
   ]
  },
  {
   "cell_type": "code",
   "execution_count": 83,
   "metadata": {
    "collapsed": false
   },
   "outputs": [],
   "source": [
    "allLinks = allJobLinks(3)\n",
    "infoList = []"
   ]
  },
  {
   "cell_type": "code",
   "execution_count": 91,
   "metadata": {
    "collapsed": false
   },
   "outputs": [
    {
     "name": "stderr",
     "output_type": "stream",
     "text": [
      "100%|██████████| 30/30 [00:55<00:00,  1.96s/it]\n"
     ]
    }
   ],
   "source": [
    "for link in tqdm(allLinks):\n",
    "    infoList.append(text_extractor(link))\n",
    "    time.sleep(1)"
   ]
  },
  {
   "cell_type": "code",
   "execution_count": null,
   "metadata": {
    "collapsed": true
   },
   "outputs": [],
   "source": []
  },
  {
   "cell_type": "code",
   "execution_count": null,
   "metadata": {
    "collapsed": true
   },
   "outputs": [],
   "source": []
  },
  {
   "cell_type": "code",
   "execution_count": null,
   "metadata": {
    "collapsed": true
   },
   "outputs": [],
   "source": []
  },
  {
   "cell_type": "code",
   "execution_count": null,
   "metadata": {
    "collapsed": true
   },
   "outputs": [],
   "source": []
  }
 ],
 "metadata": {
  "anaconda-cloud": {},
  "kernelspec": {
   "display_name": "Python [Root]",
   "language": "python",
   "name": "Python [Root]"
  },
  "language_info": {
   "codemirror_mode": {
    "name": "ipython",
    "version": 3
   },
   "file_extension": ".py",
   "mimetype": "text/x-python",
   "name": "python",
   "nbconvert_exporter": "python",
   "pygments_lexer": "ipython3",
   "version": "3.5.2"
  }
 },
 "nbformat": 4,
 "nbformat_minor": 0
}
